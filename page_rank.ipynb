{
  "cells": [
    {
      "cell_type": "markdown",
      "id": "1-dzLsJN3Zb8",
      "metadata": {
        "id": "1-dzLsJN3Zb8"
      },
      "source": [
        "# PageRank algorithm implementation\n",
        "\n",
        "---\n",
        "\n"
      ]
    },
    {
      "cell_type": "markdown",
      "id": "KtYZGwWA3iSC",
      "metadata": {
        "id": "KtYZGwWA3iSC"
      },
      "source": [
        "The PageRank algorithm was developed by Google to evaluate the importance of a web page with respect to the World Wide Web link structure. The algorithm is based on a solid mathematical model, which can be defined by means of matrix algebra. This notebook presents a basic Python implementation of the PageRank algorithm which closely follows this algebraic formulation of the problem. The results have been shown to be coherent with respect to those obtained by standard implementations.\n",
        "For the referenced theoretical framework, see *Gleich, D.F. (2015). PageRank Beyond the Web. Society of Industrial and Applied Mathematics Review, Vol.57, No. 3*. **For a detailed description of the design and implementative choices, see the report**. The Jupiter notebook is used only to allow an easier interaction with the end user."
      ]
    },
    {
      "cell_type": "code",
      "execution_count": 1,
      "id": "b622f21d-b2dc-4bfb-99bd-67ff358805b4",
      "metadata": {
        "id": "b622f21d-b2dc-4bfb-99bd-67ff358805b4"
      },
      "outputs": [],
      "source": [
        "import numpy as np"
      ]
    },
    {
      "cell_type": "markdown",
      "id": "UfWkBDwR4HXX",
      "metadata": {
        "id": "UfWkBDwR4HXX"
      },
      "source": [
        "## Graph implementation\n",
        "This section is to model graphs and nodes. As a design choice, I decided to focus on the graphs and nodes aspects which are more relevant in the context of the PageRank algorithm: therefore the definition of the classes is limited to the methods and fields which I found useful for the problem, and thus they are reduced to the essential, without defining the full ADT."
      ]
    },
    {
      "cell_type": "code",
      "execution_count": 4,
      "id": "f8f0ef99-1914-4149-910a-679e4b9d96c4",
      "metadata": {
        "id": "f8f0ef99-1914-4149-910a-679e4b9d96c4"
      },
      "outputs": [],
      "source": [
        "class Node:\n",
        "    \"\"\"\n",
        "    This class represents a node. A node has some children and parents, which we could\n",
        "    link to using its methods.\n",
        "    \"\"\"\n",
        "\n",
        "    def __init__(self, name):\n",
        "        self.name = name\n",
        "        self.children = []\n",
        "        self.parents = []\n",
        "\n",
        "    def __repr__(self):\n",
        "        return \"node \" + self.name\n",
        "\n",
        "    def link_child(self, new_child):\n",
        "        for child in self.children:\n",
        "            if(child.name == new_child.name):\n",
        "                return None\n",
        "        self.children.append(new_child)\n",
        "\n",
        "    def link_parent(self, new_parent):\n",
        "        for parent in self.parents:\n",
        "            if(parent.name == new_parent.name):\n",
        "                return None\n",
        "        self.parents.append(new_parent)\n",
        "\n",
        "\n",
        "class Graph:\n",
        "    \"\"\"\n",
        "    This class models a graph for the PageRank problem. It consists essentialy of a list\n",
        "    of nodes. It has methods to check the presence of a node, find a node (or create one),\n",
        "    link two nodes and compute the adiacency matrix.\n",
        "    \"\"\"\n",
        "    def __init__(self):\n",
        "        self.nodes = []\n",
        "\n",
        "    def __len__(self):\n",
        "        return len(self.nodes)\n",
        "\n",
        "    def contains(self, name):\n",
        "        for node in self.nodes:\n",
        "            if(node.name == name):\n",
        "                return True\n",
        "        return False\n",
        "\n",
        "    def find(self, name):\n",
        "        if(not self.contains(name)):\n",
        "            new_node = Node(name)\n",
        "            self.nodes.append(new_node)\n",
        "            return new_node\n",
        "        else:\n",
        "            return next(node for node in self.nodes if node.name == name)\n",
        "\n",
        "    def add_edge(self, parent, child):\n",
        "        parent_node = self.find(parent)\n",
        "        child_node = self.find(child)\n",
        "\n",
        "        parent_node.link_child(child_node)\n",
        "        child_node.link_parent(parent_node)\n",
        "\n",
        "    def adjacency_matrix(self):\n",
        "        A = np.zeros((len(self.nodes), len(self.nodes)))\n",
        "        for i in range(len(self.nodes)):\n",
        "            children = [node.name for node in self.nodes[i].children]\n",
        "            row = [node.name in children for node in self.nodes]\n",
        "            A[i] = row\n",
        "        return A"
      ]
    },
    {
      "cell_type": "markdown",
      "id": "fpEmnG8X4qWT",
      "metadata": {
        "id": "fpEmnG8X4qWT"
      },
      "source": [
        "The following cells contain utility functions for generating graphs. In particular, the procedure build_graph creates a Graph instance starting from a text file, where the graph is represented using the edge list convention."
      ]
    },
    {
      "cell_type": "code",
      "execution_count": 5,
      "id": "883fd371-b3b3-4890-8e66-6478bfc82d7d",
      "metadata": {
        "id": "883fd371-b3b3-4890-8e66-6478bfc82d7d"
      },
      "outputs": [],
      "source": [
        "def build_graph(file_name):\n",
        "    \"\"\"\n",
        "    Creates and returns a graph object from the edge list contained in the given path.\n",
        "\n",
        "    Parameters\n",
        "    ----------\n",
        "    file_name : string\n",
        "        The relative path (from the dataset folder) to the file containing the graph definition.\n",
        "\n",
        "    Returns\n",
        "    -------\n",
        "    graph : Graph\n",
        "        The graph built from file_name.\n",
        "\n",
        "    \"\"\"\n",
        "    with open(file_name) as file:\n",
        "        lines = file.readlines()\n",
        "\n",
        "    graph = Graph()\n",
        "\n",
        "    for line in lines:\n",
        "        [parent, child] = line.strip().split(',')\n",
        "        graph.add_edge(parent, child)\n",
        "\n",
        "    return graph"
      ]
    },
    {
      "cell_type": "code",
      "execution_count": 11,
      "id": "ca815c52-6b3a-400e-9559-e5b41365518e",
      "metadata": {
        "colab": {
          "base_uri": "https://localhost:8080/"
        },
        "id": "ca815c52-6b3a-400e-9559-e5b41365518e",
        "outputId": "b38a0108-f15c-4353-c5bb-f9cb7b348c8f"
      },
      "outputs": [
        {
          "name": "stdout",
          "output_type": "stream",
          "text": [
            "List of nodes:\n",
            " [node 2076, node 4785, node 5793, node 6338, node 9484, node 2564, node 6395, node 9994, node 5016]\n",
            "Lenght of graph: 9\n",
            "Adjacency matrix:\n",
            " [[0. 1. 1. 1. 1. 1. 1. 1. 1.]\n",
            " [0. 0. 0. 0. 0. 0. 0. 0. 0.]\n",
            " [0. 0. 0. 0. 1. 0. 0. 0. 0.]\n",
            " [0. 0. 0. 0. 0. 0. 0. 0. 0.]\n",
            " [0. 0. 0. 0. 0. 0. 0. 0. 0.]\n",
            " [0. 0. 1. 0. 0. 0. 1. 1. 0.]\n",
            " [0. 0. 0. 0. 0. 0. 0. 0. 0.]\n",
            " [0. 0. 0. 0. 0. 0. 0. 0. 0.]\n",
            " [0. 0. 0. 0. 0. 0. 0. 0. 0.]]\n"
          ]
        }
      ],
      "source": [
        "# G = build_graph(\"graph_5.txt\") # for Colab\n",
        "G = build_graph(\"./dataset/graph_5.txt\") # in VS code / Jupyter lab\n",
        "print(\"List of nodes:\\n\", G.nodes)\n",
        "print(\"Lenght of graph:\", len(G))\n",
        "print(\"Adjacency matrix:\\n\", G.adjacency_matrix())"
      ]
    },
    {
      "cell_type": "markdown",
      "id": "KRkAjVwu5kMK",
      "metadata": {
        "id": "KRkAjVwu5kMK"
      },
      "source": [
        "## PageRank algorithm implementation\n",
        "This Section contains the actual PageRank implementation, together with the necessary helper functions."
      ]
    },
    {
      "cell_type": "markdown",
      "id": "Ae-Zmfhf6AGC",
      "metadata": {
        "id": "Ae-Zmfhf6AGC"
      },
      "source": [
        "The `P_matrix` function, as the name suggests, computes the P matrix to use in the PageRank algorithm for a given graph. The complete signature is `P_matrix(graph)`, where graph is an instance of the class `Graph`. It returns a 2 dimensional `numpy` array as a result. It is important to note that this method does not embed a policy for column completion in case of sink nodes: this means that it returns a sub-stochastic matrix. Instead, the completion policy is enforced inside the pageRank method, as it is a characteristic of the particular version of the algorithm."
      ]
    },
    {
      "cell_type": "code",
      "execution_count": 13,
      "id": "umXkmGyz8qrV",
      "metadata": {
        "id": "umXkmGyz8qrV"
      },
      "outputs": [],
      "source": [
        "def P_matrix(graph):\n",
        "    \"\"\"\n",
        "    Compute the P matrix to use in the PageRank algorithm (see Langville and Gleich).\n",
        "    It does not embed a policy for dealing with sink nodes (their column\n",
        "    is composed of all 0s); so P is a substochastic matrix (as in a psedudo-pg problem).\n",
        "\n",
        "    Parameters\n",
        "    ----------\n",
        "    graph : Graph\n",
        "        the graph which P refers to.\n",
        "\n",
        "    Returns\n",
        "    -------\n",
        "    P : numpyarray\n",
        "        A 2 dimensional array equal to the trasposed adjacency matrix multiplied for the\n",
        "        Penrose-pseudoinverse of the D matrix (see Langville and Gleich).\n",
        "\n",
        "    \"\"\"\n",
        "    AT = graph.adjacency_matrix().T\n",
        "    d = AT.sum(axis=0)\n",
        "    d[d == 0] = 1\n",
        "    return AT / d"
      ]
    },
    {
      "cell_type": "markdown",
      "id": "T0FXEaRE8rS0",
      "metadata": {
        "id": "T0FXEaRE8rS0"
      },
      "source": [
        "The `pageRank` function contains the implementation of the PageRank algorithm. Therefore, this method computes the PageRank value for each node of a graph, given some parameters which will be introduced soon. The procedure applies the weakly preferential policy for sink nodes, while the personalization vector is assumed to be always a uniformly distributed one. It also allows to choose between solving the PageRank linear system directly (exact solution), or applying an iterative method using the update rule described in Gleich's paper; both approaches yield similar results in terms of accuracy, as it is discussed thoroughly inside the report."
      ]
    },
    {
      "cell_type": "code",
      "execution_count": 14,
      "id": "e920046f-a473-4a4e-8539-fbba077892ca",
      "metadata": {
        "id": "e920046f-a473-4a4e-8539-fbba077892ca"
      },
      "outputs": [],
      "source": [
        "def pageRank(graph, alpha=0.85, max_iterations=400, algo=\"iterative\", rround=\"yes\"):\n",
        "    \"\"\"\n",
        "    Returns the PageRank value for each of the nodes of the given graph, using the\n",
        "    given parameters. It applies the weakly preferential policy for sink nodes (the random\n",
        "    surfer is teleported to a random node following a uniform distribution). The\n",
        "    personalization vector is considered to be a uniformly distributed one.\n",
        "\n",
        "    Parameters\n",
        "    ----------\n",
        "    graph : Graph (own implementation)\n",
        "        The graph containing the nodes to compute the PageRank for.\n",
        "    alpha : float, optional\n",
        "        The damping parameter of the algorithm. The default is 0.85.\n",
        "    max_iterations: int, optional\n",
        "        The maximum number of iterations to do in case an iterative procedure is chosen (see\n",
        "        algo parameter): when the maximum value is reached, the execution of the function stops\n",
        "        and the result obtained at that point is returned. The default is 400.\n",
        "    algo : string, optional\n",
        "        Used to distinguish between an iterative application of the algorithm and exact one.\n",
        "        For the iterative version, it applies the update rule contained in Gleich's paper until\n",
        "        convergence or maximum iterations reached. The pg values vector is initialized\n",
        "        as a uniform distribution over all the nodes. For the exact version, see pageRank_exact.\n",
        "        The default value of the parameter is \"iterative\". For the exact version, use \"exact\".\n",
        "    rround : string, optional\n",
        "        String value to apply a rounding of the pg values to the first 3 decimal digits.\n",
        "        The default is \"yes\".\n",
        "\n",
        "    Returns\n",
        "    -------\n",
        "    numpy array\n",
        "        An array containing the pg value for each node. Each value refers to the node in graph\n",
        "        which holds the same position in the graph's node list.\n",
        "    \"\"\"\n",
        "    if algo == \"exact\":\n",
        "        return pageRank_exact(graph, alpha, rround)\n",
        "\n",
        "    N = len(graph)\n",
        "    P = P_matrix(graph)\n",
        "    c = np.sum(P, axis=0) == 0\n",
        "    v = np.repeat(1.0/N, N)  # teleportation vector\n",
        "    x = v.copy()   # initialization vector\n",
        "    dangling = v.copy()  # sink nodes policy vector\n",
        "\n",
        "    threshold= 1e-16\n",
        "    error = 1\n",
        "\n",
        "    for i in range(max_iterations):\n",
        "        x_old = x\n",
        "        x = alpha*(P @ x_old + (np.inner(c, x_old) * dangling)) + (1-alpha) * v\n",
        "        error = np.linalg.norm((x - x_old), ord=1)  # use norm 1 to convergence\n",
        "        if error < threshold:\n",
        "            break\n",
        "\n",
        "    if rround == \"yes\":\n",
        "        return np.round(x, 3)\n",
        "    return x\n",
        "\n",
        "def pageRank_exact(graph, alpha=0.85, rround=\"yes\"):\n",
        "    \"\"\"\n",
        "    Exact resolution for the PageRank problem. It is done by solving the linear system\n",
        "    associated to the problem as shown in Gleich's paper. We still use the weakly preferential\n",
        "    approach and a uniform v vector.\n",
        "\n",
        "    Parameters\n",
        "    ----------\n",
        "    graph : Graph (own implementation)\n",
        "        The graph containing the nodes to compute the PageRank for.\n",
        "    alpha : float, optional\n",
        "        The damping parameter of the algorithm. The default is 0.85.\n",
        "    rround : string, optional\n",
        "        String value to apply a rounding of the pg values to the first 3 decimal digits.\n",
        "        The default is \"yes\".\n",
        "\n",
        "    Returns\n",
        "    -------\n",
        "    numpy array\n",
        "        An array containing the pg value for each node. Each value refers to the node in graph\n",
        "        which holds the same position in the graph's node list.\n",
        "\n",
        "    \"\"\"\n",
        "    P = P_matrix(graph)\n",
        "    N = len(graph)\n",
        "    v = np.repeat(1.0/N, N)\n",
        "\n",
        "    # this time we need to complete P as to make it a stochastic matrix\n",
        "    c = np.sum(P, axis=0) == 0\n",
        "    u = np.repeat(1.0/N, N)\n",
        "    P = P + np.outer(u,c)\n",
        "\n",
        "    x = np.linalg.solve(np.eye(N,N) - alpha*P, (1-alpha)*v)\n",
        "\n",
        "    if rround == \"yes\":\n",
        "        return np.round(x, 3)\n",
        "    return x\n",
        "\n",
        "def pageRank_pretty_print(graph, pg_values):\n",
        "    \"\"\"\n",
        "    Prints the page rank value of each node, explicitly associating the node IDs\n",
        "    with the PR value.\n",
        "\n",
        "    Parameters\n",
        "    ----------\n",
        "    graph : Graph\n",
        "        The graph the PR values refer to.\n",
        "    pg_values : numpy array\n",
        "        The values computed over the given graph.\n",
        "\n",
        "    Returns\n",
        "    -------\n",
        "    None.\n",
        "\n",
        "    \"\"\"\n",
        "    print()\n",
        "    print(\"Page rank values:\")\n",
        "    print(\"-----------------------\")\n",
        "\n",
        "    for i in range(len(graph.nodes)):\n",
        "        print(\"Node\", i+1, \" [id: \" + graph.nodes[i].name + \"]:\", pg_values[i])\n",
        "    print()"
      ]
    },
    {
      "cell_type": "markdown",
      "id": "fhb1zMea605S",
      "metadata": {
        "id": "fhb1zMea605S"
      },
      "source": [
        "Here we execute the function we defined above over the graph G."
      ]
    },
    {
      "cell_type": "code",
      "execution_count": 16,
      "id": "510ea05e-70a7-42d3-ab54-4073277e3380",
      "metadata": {
        "colab": {
          "base_uri": "https://localhost:8080/"
        },
        "id": "510ea05e-70a7-42d3-ab54-4073277e3380",
        "outputId": "2b9d1a5d-c282-424b-8f41-139541edd2e8"
      },
      "outputs": [
        {
          "name": "stdout",
          "output_type": "stream",
          "text": [
            "\n",
            "Page rank values:\n",
            "-----------------------\n",
            "Node 1  [id: 1]: 0.28\n",
            "Node 2  [id: 2]: 0.159\n",
            "Node 3  [id: 3]: 0.139\n",
            "Node 4  [id: 4]: 0.108\n",
            "Node 5  [id: 5]: 0.184\n",
            "Node 6  [id: 7]: 0.069\n",
            "Node 7  [id: 6]: 0.061\n",
            "\n"
          ]
        }
      ],
      "source": [
        "# G = build_graph(\"graph_4.txt\")\n",
        "G = build_graph(\"./dataset/graph_4.txt\")\n",
        "pr_values = pageRank(G)\n",
        "pageRank_pretty_print(G, pr_values)"
      ]
    },
    {
      "cell_type": "markdown",
      "id": "OIfaJNsF7t3l",
      "metadata": {
        "id": "OIfaJNsF7t3l"
      },
      "source": [
        "It is possible to execute the function with a variety of configurable parameters."
      ]
    },
    {
      "cell_type": "code",
      "execution_count": 17,
      "id": "hw9ssbGz7ztd",
      "metadata": {
        "colab": {
          "base_uri": "https://localhost:8080/"
        },
        "id": "hw9ssbGz7ztd",
        "outputId": "8a3a94b6-6bf3-419b-a3ab-cbc54920fda6"
      },
      "outputs": [
        {
          "name": "stdout",
          "output_type": "stream",
          "text": [
            "\n",
            "Page rank values:\n",
            "-----------------------\n",
            "Node 1  [id: 1]: 0.25714634997980096\n",
            "Node 2  [id: 2]: 0.1530014577560855\n",
            "Node 3  [id: 3]: 0.1375098525496496\n",
            "Node 4  [id: 4]: 0.11149447504025642\n",
            "Node 5  [id: 5]: 0.18649624677680812\n",
            "Node 6  [id: 7]: 0.07885763185431499\n",
            "Node 7  [id: 6]: 0.07549398604308429\n",
            "\n"
          ]
        }
      ],
      "source": [
        "pr_values_2 = pageRank(G, rround=\"no\", alpha=.70, algo=\"exact\")\n",
        "pageRank_pretty_print(G, pr_values_2)"
      ]
    },
    {
      "cell_type": "markdown",
      "id": "pZ8-1lzE8JRk",
      "metadata": {
        "id": "pZ8-1lzE8JRk"
      },
      "source": [
        "## Testing the custom PageRank\n",
        "Let us now consider how the PageRank implementation can be tested. The general approach used is to compare the results given by the custom implementation with those of a standard PageRank library: NetworkX. NetworkX employs by default the weakly-preferential version of the algorithm and a uniform initialization for the PageRank and personalization vectors: so it applies the exact same version of the algorithm I have used and therefore the comparison is legitimate and meaningful.\n",
        "The section consists of two test cases: the first one is used to check if the output values of my implementation are within a certain tolerance limit with respect to those of NetworkX (accuracy testing), for a given execution on a graph; the second one aims to compare the average execution time of the two implementations given a graph (performance testing). To test the performance of my implementation, I compared the average execution time of the pageRank function with that of NetworkX analogous procedure, using the `timeit` Python module.  \n"
      ]
    },
    {
      "cell_type": "code",
      "execution_count": 18,
      "id": "Ij9_8l2e9IXV",
      "metadata": {
        "id": "Ij9_8l2e9IXV"
      },
      "outputs": [],
      "source": [
        "import timeit\n",
        "import networkx as nx"
      ]
    },
    {
      "cell_type": "code",
      "execution_count": 19,
      "id": "iERuwhZl9q3Z",
      "metadata": {
        "id": "iERuwhZl9q3Z"
      },
      "outputs": [],
      "source": [
        "def nx_pagerank(file_name, alpha, rround=\"yes\"):\n",
        "    \"\"\"\n",
        "    This procedure applies nx's implementation on the given graph with the\n",
        "    given damping parameter.\n",
        "\n",
        "    Parameters\n",
        "    ----------\n",
        "    file_name : string\n",
        "        The name of the file containing the desired graph to process.\n",
        "    alpha : float\n",
        "        The damping parameter.\n",
        "    rround (optional): string\n",
        "        If \"yes\", rounds the pg values to the first 3 decimal digits.\n",
        "\n",
        "    Returns\n",
        "    -------\n",
        "    numpy.array\n",
        "        An array containing the pg values for all nodes, in the order they\n",
        "        appear inside the file.\n",
        "\n",
        "    \"\"\"\n",
        "    with open(file_name) as f:\n",
        "        lines = f.readlines()\n",
        "\n",
        "    G = nx.DiGraph()\n",
        "\n",
        "    for line in lines:\n",
        "        t = tuple(line.strip().split(','))\n",
        "        G.add_edge(*t)\n",
        "\n",
        "    pr = nx.pagerank(G, alpha=alpha)\n",
        "    if rround == \"yes\":\n",
        "        return np.round(list(pr.values()), 3)\n",
        "    else:\n",
        "        return np.array(list(pr.values()))\n",
        "\n",
        "\n",
        "\n",
        "def accuracy_test(file_name, alpha, algo):\n",
        "    \"\"\"\n",
        "    Test procedure for comparing my algorithm results with nx's. The algorithm will pass the\n",
        "    test over a certain graph if the error made over each nodes' pg value is less than\n",
        "    a tenth of the expected value according to nx. Some information regarding the comparison\n",
        "    between the two are displayed: the MSE and the number of nodes that hold the same position\n",
        "    after being sorted according to the pr value\n",
        "\n",
        "    Parameters\n",
        "    ----------\n",
        "    file_name : string\n",
        "        The graph to test on.\n",
        "    alpha : float\n",
        "        Damping parameter.\n",
        "    algo: string\n",
        "        Specifies if the implementation to be used should be the iterative or the exact one;\n",
        "        therefore strings \"iterative\" and \"exact\".\n",
        "\n",
        "    Returns\n",
        "    -------\n",
        "    None.\n",
        "\n",
        "    \"\"\"\n",
        "    print()\n",
        "    print(\"PageRank test result for\", file_name, \"using\", algo, \"version\")\n",
        "    print(\"---------------------------------------------------------------------------------------------\")\n",
        "\n",
        "    nx_result = nx_pagerank(file_name, alpha, rround=\"no\")\n",
        "    my_result = pageRank(build_graph(file_name), alpha, algo=algo, rround=\"no\")\n",
        "    mse = np.mean((my_result-nx_result)**2)\n",
        "    same_order_num = np.sum(np.argsort(nx_result) == np.argsort(my_result))\n",
        "\n",
        "    try:\n",
        "        np.testing.assert_allclose(my_result, nx_result, rtol=1e-03, err_msg=\"The actual PR values differ from the desired ones by more that 1/1000 of the desired value\")\n",
        "        error = \"thousandth\"\n",
        "    except AssertionError as e:\n",
        "        try:\n",
        "            print(e)\n",
        "            np.testing.assert_allclose(my_result, nx_result, rtol=1e-02, err_msg=\"The actual PR values differ from the desired ones by more that 1/100 of the desired value\")\n",
        "            error = \"hundredth\"\n",
        "        except AssertionError as e:\n",
        "            try:\n",
        "                print(e)\n",
        "                np.testing.assert_allclose(my_result, nx_result, rtol=1e-01, err_msg=\"The actual PR values differ from the desired ones by more that 1/10 of the desired value\")\n",
        "                error = \"tenth\"\n",
        "            except AssertionError as e:\n",
        "                print(e)\n",
        "                print(\"The algorithm didn't pass the test for this graph.\")\n",
        "                print(\"The MSE is:\", mse)\n",
        "                print(\"The nodes are ranked in the same way for\", same_order_num, \"over\", len(my_result), \"nodes\")\n",
        "\n",
        "    print()\n",
        "    print(\"Each pg value differs from the expected one for less than a\", error, \"of the expected value\")\n",
        "    print()\n",
        "    print(\"The MSE is:\", mse)\n",
        "    print(\"The nodes are ranked in the same way for\", same_order_num, \"over\", len(my_result), \"nodes\")\n",
        "    print()\n",
        "\n",
        "def time_test(file_name, alpha, algo, number=10, nx_time=None):\n",
        "    \"\"\"\n",
        "    Compute the average execution time of PageRankCalculator.pageRank and .pageRank_exact given the parameters\n",
        "    and compare it with the average time of NetworkX's implementation.\n",
        "    The result is printed on the console.\n",
        "\n",
        "    Parameters\n",
        "    ----------\n",
        "    file_name : string\n",
        "        The graph to test on.\n",
        "    alpha : float\n",
        "        Damping parameter.\n",
        "    algo: string\n",
        "        Specifies if the implementation to be used should be the iterative or the exact one;\n",
        "        therefore strings \"iterative\" and \"exact\"\n",
        "    number: int (optional)\n",
        "        The number of repeated executions for the two implementations to average on. By default it equals 10.\n",
        "    nx_time: float (optional)\n",
        "        The average reference time the implementations should be compared to; if not given it is computed\n",
        "        inside the function. The default value is None to represent that no reference time was given to the\n",
        "        function.\n",
        "\n",
        "    Returns\n",
        "    -------\n",
        "    my_time: float\n",
        "        The average execution time of the custom implementation of PageRank\n",
        "    nx_time: float\n",
        "        The average execution time over the given graph for nx's library implementation\n",
        "\n",
        "    \"\"\"\n",
        "    print()\n",
        "    print(\"Measuring average execution time of the\", algo, \"algorithm, over\", number, \"iterations on file\", file_name)\n",
        "    print(\"------------------------------------------------------------------------------------------------------------\")\n",
        "    print()\n",
        "\n",
        "    globals()[\"file_name\"] = file_name\n",
        "    globals()[\"alpha\"] = alpha\n",
        "    globals()[\"algo\"] = algo\n",
        "    globals()[\"number\"] = number\n",
        "\n",
        "    if nx_time is None:\n",
        "        nx_time = timeit.timeit(\"nx_pagerank(file_name, alpha, rround=\\\"no\\\")\", globals=globals(), number=number)\n",
        "    my_time = timeit.timeit(\"pageRank(build_graph(file_name), alpha, algo=algo, rround=\\\"no\\\")\",\n",
        "                            globals=globals(), number=number)\n",
        "\n",
        "    comparison = \"faster\"\n",
        "    if(my_time > nx_time):\n",
        "        comparison = \"slower\"\n",
        "\n",
        "    print(\"Average execution time for my algorithm is\", my_time / number, \"seconds\")\n",
        "    print(\"It is\", abs(my_time - nx_time) / number, \"seconds\", comparison, \"than NetworkX on average\")\n",
        "    print()\n",
        "\n",
        "    return my_time, nx_time\n"
      ]
    },
    {
      "cell_type": "markdown",
      "id": "hqAOB5qJ_RaL",
      "metadata": {
        "id": "hqAOB5qJ_RaL"
      },
      "source": [
        "We can execute the tests and see the outputs by invoking the test functions defined above."
      ]
    },
    {
      "cell_type": "code",
      "execution_count": 21,
      "id": "_V9EYpv__Xlm",
      "metadata": {
        "colab": {
          "base_uri": "https://localhost:8080/"
        },
        "id": "_V9EYpv__Xlm",
        "outputId": "bb8d3732-6ba2-4247-89c7-143b8cef6cde"
      },
      "outputs": [
        {
          "name": "stdout",
          "output_type": "stream",
          "text": [
            "\n",
            "PageRank test result for ./dataset/graph_5.txt using iterative version\n",
            "---------------------------------------------------------------------------------------------\n"
          ]
        },
        {
          "ename": "AttributeError",
          "evalue": "module 'scipy.sparse' has no attribute 'coo_array'",
          "output_type": "error",
          "traceback": [
            "\u001b[1;31m---------------------------------------------------------------------------\u001b[0m",
            "\u001b[1;31mAttributeError\u001b[0m                            Traceback (most recent call last)",
            "\u001b[1;32mc:\\Users\\matte\\OneDrive\\Documents\\GitHub\\page-rank-implementation\\page_rank.ipynb Cell 22\u001b[0m in \u001b[0;36m<cell line: 3>\u001b[1;34m()\u001b[0m\n\u001b[0;32m      <a href='vscode-notebook-cell:/c%3A/Users/matte/OneDrive/Documents/GitHub/page-rank-implementation/page_rank.ipynb#X30sZmlsZQ%3D%3D?line=0'>1</a>\u001b[0m \u001b[39m# graph_name = \"graph_5.txt\"\u001b[39;00m\n\u001b[0;32m      <a href='vscode-notebook-cell:/c%3A/Users/matte/OneDrive/Documents/GitHub/page-rank-implementation/page_rank.ipynb#X30sZmlsZQ%3D%3D?line=1'>2</a>\u001b[0m graph_name \u001b[39m=\u001b[39m \u001b[39m\"\u001b[39m\u001b[39m./dataset/graph_5.txt\u001b[39m\u001b[39m\"\u001b[39m\n\u001b[1;32m----> <a href='vscode-notebook-cell:/c%3A/Users/matte/OneDrive/Documents/GitHub/page-rank-implementation/page_rank.ipynb#X30sZmlsZQ%3D%3D?line=2'>3</a>\u001b[0m accuracy_test(graph_name, \u001b[39m.85\u001b[39;49m, \u001b[39m\"\u001b[39;49m\u001b[39miterative\u001b[39;49m\u001b[39m\"\u001b[39;49m)\n\u001b[0;32m      <a href='vscode-notebook-cell:/c%3A/Users/matte/OneDrive/Documents/GitHub/page-rank-implementation/page_rank.ipynb#X30sZmlsZQ%3D%3D?line=3'>4</a>\u001b[0m _,_ \u001b[39m=\u001b[39m time_test(graph_name, \u001b[39m.85\u001b[39m, \u001b[39m\"\u001b[39m\u001b[39miterative\u001b[39m\u001b[39m\"\u001b[39m)\n",
            "\u001b[1;32mc:\\Users\\matte\\OneDrive\\Documents\\GitHub\\page-rank-implementation\\page_rank.ipynb Cell 22\u001b[0m in \u001b[0;36maccuracy_test\u001b[1;34m(file_name, alpha, algo)\u001b[0m\n\u001b[0;32m     <a href='vscode-notebook-cell:/c%3A/Users/matte/OneDrive/Documents/GitHub/page-rank-implementation/page_rank.ipynb#X30sZmlsZQ%3D%3D?line=62'>63</a>\u001b[0m \u001b[39mprint\u001b[39m(\u001b[39m\"\u001b[39m\u001b[39mPageRank test result for\u001b[39m\u001b[39m\"\u001b[39m, file_name, \u001b[39m\"\u001b[39m\u001b[39musing\u001b[39m\u001b[39m\"\u001b[39m, algo, \u001b[39m\"\u001b[39m\u001b[39mversion\u001b[39m\u001b[39m\"\u001b[39m)\n\u001b[0;32m     <a href='vscode-notebook-cell:/c%3A/Users/matte/OneDrive/Documents/GitHub/page-rank-implementation/page_rank.ipynb#X30sZmlsZQ%3D%3D?line=63'>64</a>\u001b[0m \u001b[39mprint\u001b[39m(\u001b[39m\"\u001b[39m\u001b[39m---------------------------------------------------------------------------------------------\u001b[39m\u001b[39m\"\u001b[39m)\n\u001b[1;32m---> <a href='vscode-notebook-cell:/c%3A/Users/matte/OneDrive/Documents/GitHub/page-rank-implementation/page_rank.ipynb#X30sZmlsZQ%3D%3D?line=65'>66</a>\u001b[0m nx_result \u001b[39m=\u001b[39m nx_pagerank(file_name, alpha, rround\u001b[39m=\u001b[39;49m\u001b[39m\"\u001b[39;49m\u001b[39mno\u001b[39;49m\u001b[39m\"\u001b[39;49m)\n\u001b[0;32m     <a href='vscode-notebook-cell:/c%3A/Users/matte/OneDrive/Documents/GitHub/page-rank-implementation/page_rank.ipynb#X30sZmlsZQ%3D%3D?line=66'>67</a>\u001b[0m my_result \u001b[39m=\u001b[39m pageRank(build_graph(file_name), alpha, algo\u001b[39m=\u001b[39malgo, rround\u001b[39m=\u001b[39m\u001b[39m\"\u001b[39m\u001b[39mno\u001b[39m\u001b[39m\"\u001b[39m)\n\u001b[0;32m     <a href='vscode-notebook-cell:/c%3A/Users/matte/OneDrive/Documents/GitHub/page-rank-implementation/page_rank.ipynb#X30sZmlsZQ%3D%3D?line=67'>68</a>\u001b[0m mse \u001b[39m=\u001b[39m np\u001b[39m.\u001b[39mmean((my_result\u001b[39m-\u001b[39mnx_result)\u001b[39m*\u001b[39m\u001b[39m*\u001b[39m\u001b[39m2\u001b[39m)\n",
            "\u001b[1;32mc:\\Users\\matte\\OneDrive\\Documents\\GitHub\\page-rank-implementation\\page_rank.ipynb Cell 22\u001b[0m in \u001b[0;36mnx_pagerank\u001b[1;34m(file_name, alpha, rround)\u001b[0m\n\u001b[0;32m     <a href='vscode-notebook-cell:/c%3A/Users/matte/OneDrive/Documents/GitHub/page-rank-implementation/page_rank.ipynb#X30sZmlsZQ%3D%3D?line=27'>28</a>\u001b[0m     t \u001b[39m=\u001b[39m \u001b[39mtuple\u001b[39m(line\u001b[39m.\u001b[39mstrip()\u001b[39m.\u001b[39msplit(\u001b[39m'\u001b[39m\u001b[39m,\u001b[39m\u001b[39m'\u001b[39m))\n\u001b[0;32m     <a href='vscode-notebook-cell:/c%3A/Users/matte/OneDrive/Documents/GitHub/page-rank-implementation/page_rank.ipynb#X30sZmlsZQ%3D%3D?line=28'>29</a>\u001b[0m     G\u001b[39m.\u001b[39madd_edge(\u001b[39m*\u001b[39mt)\n\u001b[1;32m---> <a href='vscode-notebook-cell:/c%3A/Users/matte/OneDrive/Documents/GitHub/page-rank-implementation/page_rank.ipynb#X30sZmlsZQ%3D%3D?line=30'>31</a>\u001b[0m pr \u001b[39m=\u001b[39m nx\u001b[39m.\u001b[39;49mpagerank(G, alpha\u001b[39m=\u001b[39;49malpha)\n\u001b[0;32m     <a href='vscode-notebook-cell:/c%3A/Users/matte/OneDrive/Documents/GitHub/page-rank-implementation/page_rank.ipynb#X30sZmlsZQ%3D%3D?line=31'>32</a>\u001b[0m \u001b[39mif\u001b[39;00m rround \u001b[39m==\u001b[39m \u001b[39m\"\u001b[39m\u001b[39myes\u001b[39m\u001b[39m\"\u001b[39m:\n\u001b[0;32m     <a href='vscode-notebook-cell:/c%3A/Users/matte/OneDrive/Documents/GitHub/page-rank-implementation/page_rank.ipynb#X30sZmlsZQ%3D%3D?line=32'>33</a>\u001b[0m     \u001b[39mreturn\u001b[39;00m np\u001b[39m.\u001b[39mround(\u001b[39mlist\u001b[39m(pr\u001b[39m.\u001b[39mvalues()), \u001b[39m3\u001b[39m)\n",
            "File \u001b[1;32mc:\\Users\\matte\\anaconda3\\lib\\site-packages\\networkx\\algorithms\\link_analysis\\pagerank_alg.py:108\u001b[0m, in \u001b[0;36mpagerank\u001b[1;34m(G, alpha, personalization, max_iter, tol, nstart, weight, dangling)\u001b[0m\n\u001b[0;32m      9\u001b[0m \u001b[39mdef\u001b[39;00m \u001b[39mpagerank\u001b[39m(\n\u001b[0;32m     10\u001b[0m     G,\n\u001b[0;32m     11\u001b[0m     alpha\u001b[39m=\u001b[39m\u001b[39m0.85\u001b[39m,\n\u001b[1;32m   (...)\u001b[0m\n\u001b[0;32m     17\u001b[0m     dangling\u001b[39m=\u001b[39m\u001b[39mNone\u001b[39;00m,\n\u001b[0;32m     18\u001b[0m ):\n\u001b[0;32m     19\u001b[0m     \u001b[39m\"\"\"Returns the PageRank of the nodes in the graph.\u001b[39;00m\n\u001b[0;32m     20\u001b[0m \n\u001b[0;32m     21\u001b[0m \u001b[39m    PageRank computes a ranking of the nodes in the graph G based on\u001b[39;00m\n\u001b[1;32m   (...)\u001b[0m\n\u001b[0;32m    106\u001b[0m \n\u001b[0;32m    107\u001b[0m \u001b[39m    \"\"\"\u001b[39;00m\n\u001b[1;32m--> 108\u001b[0m     \u001b[39mreturn\u001b[39;00m pagerank_scipy(\n\u001b[0;32m    109\u001b[0m         G, alpha, personalization, max_iter, tol, nstart, weight, dangling\n\u001b[0;32m    110\u001b[0m     )\n",
            "File \u001b[1;32mc:\\Users\\matte\\anaconda3\\lib\\site-packages\\networkx\\algorithms\\link_analysis\\pagerank_alg.py:469\u001b[0m, in \u001b[0;36mpagerank_scipy\u001b[1;34m(G, alpha, personalization, max_iter, tol, nstart, weight, dangling)\u001b[0m\n\u001b[0;32m    466\u001b[0m     \u001b[39mreturn\u001b[39;00m {}\n\u001b[0;32m    468\u001b[0m nodelist \u001b[39m=\u001b[39m \u001b[39mlist\u001b[39m(G)\n\u001b[1;32m--> 469\u001b[0m A \u001b[39m=\u001b[39m nx\u001b[39m.\u001b[39;49mto_scipy_sparse_array(G, nodelist\u001b[39m=\u001b[39;49mnodelist, weight\u001b[39m=\u001b[39;49mweight, dtype\u001b[39m=\u001b[39;49m\u001b[39mfloat\u001b[39;49m)\n\u001b[0;32m    470\u001b[0m S \u001b[39m=\u001b[39m A\u001b[39m.\u001b[39msum(axis\u001b[39m=\u001b[39m\u001b[39m1\u001b[39m)\n\u001b[0;32m    471\u001b[0m S[S \u001b[39m!=\u001b[39m \u001b[39m0\u001b[39m] \u001b[39m=\u001b[39m \u001b[39m1.0\u001b[39m \u001b[39m/\u001b[39m S[S \u001b[39m!=\u001b[39m \u001b[39m0\u001b[39m]\n",
            "File \u001b[1;32mc:\\Users\\matte\\anaconda3\\lib\\site-packages\\networkx\\convert_matrix.py:907\u001b[0m, in \u001b[0;36mto_scipy_sparse_array\u001b[1;34m(G, nodelist, dtype, weight, format)\u001b[0m\n\u001b[0;32m    904\u001b[0m     row, col, data \u001b[39m=\u001b[39m [], [], []\n\u001b[0;32m    906\u001b[0m \u001b[39mif\u001b[39;00m G\u001b[39m.\u001b[39mis_directed():\n\u001b[1;32m--> 907\u001b[0m     A \u001b[39m=\u001b[39m sp\u001b[39m.\u001b[39;49msparse\u001b[39m.\u001b[39;49mcoo_array((data, (row, col)), shape\u001b[39m=\u001b[39m(nlen, nlen), dtype\u001b[39m=\u001b[39mdtype)\n\u001b[0;32m    908\u001b[0m \u001b[39melse\u001b[39;00m:\n\u001b[0;32m    909\u001b[0m     \u001b[39m# symmetrize matrix\u001b[39;00m\n\u001b[0;32m    910\u001b[0m     d \u001b[39m=\u001b[39m data \u001b[39m+\u001b[39m data\n",
            "\u001b[1;31mAttributeError\u001b[0m: module 'scipy.sparse' has no attribute 'coo_array'"
          ]
        }
      ],
      "source": [
        "# graph_name = \"graph_5.txt\"\n",
        "graph_name = \"./dataset/graph_5.txt\"\n",
        "accuracy_test(graph_name, .85, \"iterative\")\n",
        "_,_ = time_test(graph_name, .85, \"iterative\")\n",
        "\n",
        "# If not working, might be a librabry conflict between scipy and networkx. \n",
        "# Set networkx to <= 2.6.\n",
        "# Or use Colab directly"
      ]
    }
  ],
  "metadata": {
    "colab": {
      "collapsed_sections": [
        "UfWkBDwR4HXX",
        "KRkAjVwu5kMK"
      ],
      "provenance": []
    },
    "kernelspec": {
      "display_name": "Python 3 (ipykernel)",
      "language": "python",
      "name": "python3"
    },
    "language_info": {
      "codemirror_mode": {
        "name": "ipython",
        "version": 3
      },
      "file_extension": ".py",
      "mimetype": "text/x-python",
      "name": "python",
      "nbconvert_exporter": "python",
      "pygments_lexer": "ipython3",
      "version": "3.9.12"
    }
  },
  "nbformat": 4,
  "nbformat_minor": 5
}
